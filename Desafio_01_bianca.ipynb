{
  "nbformat": 4,
  "nbformat_minor": 0,
  "metadata": {
    "anaconda-cloud": {},
    "colab": {
      "name": "Desafio_01_bianca.ipynb",
      "provenance": [],
      "collapsed_sections": [],
      "include_colab_link": true
    },
    "kernelspec": {
      "display_name": "Python 3",
      "language": "python",
      "name": "python3"
    },
    "language_info": {
      "codemirror_mode": {
        "name": "ipython",
        "version": 3
      },
      "file_extension": ".py",
      "mimetype": "text/x-python",
      "name": "python",
      "nbconvert_exporter": "python",
      "pygments_lexer": "ipython3",
      "version": "3.7.9"
    }
  },
  "cells": [
    {
      "cell_type": "markdown",
      "metadata": {
        "id": "view-in-github",
        "colab_type": "text"
      },
      "source": [
        "<a href=\"https://colab.research.google.com/github/BiancaSchwanke/br-python-challenges/blob/master/Desafio_01_bianca.ipynb\" target=\"_parent\"><img src=\"https://colab.research.google.com/assets/colab-badge.svg\" alt=\"Open In Colab\"/></a>"
      ]
    },
    {
      "cell_type": "markdown",
      "metadata": {
        "id": "SbLLE9q1eldC"
      },
      "source": [
        "### Desafio 1\n",
        "\n",
        "Escreva um programa em Python para contabilizar a quantidade de ocorrências de cada palavra."
      ]
    },
    {
      "cell_type": "code",
      "metadata": {
        "id": "WhtbdwFseldD"
      },
      "source": [
        "palavras = [\n",
        "   'red', 'green', 'black', 'pink', 'black', 'white', 'black', 'eyes',\n",
        "   'white', 'black', 'orange', 'pink', 'pink', 'red', 'red', 'white', 'orange',\n",
        "   'white', \"black\", 'pink', 'green', 'green', 'pink', 'green', 'pink',\n",
        "   'white', 'orange', \"orange\", 'red'\n",
        "]\n",
        "\n",
        "\n",
        "# Seu código"
      ],
      "execution_count": null,
      "outputs": []
    },
    {
      "cell_type": "code",
      "metadata": {
        "id": "bNXQRqfNy_t9"
      },
      "source": [
        "def prog_cores():\n",
        "  cor = input(\"Insira a cor que você quer descobrir a repetição:\")\n",
        "\n",
        "  qtd_de_red = palavras.count('red')\n",
        "  qtd_de_green = palavras.count('green')\n",
        "  qtd_de_black = palavras.count('black')\n",
        "  qtd_de_pink = palavras.count('pink')\n",
        "  qtd_de_white = palavras.count('white')\n",
        "  qtd_de_eyes = palavras.count('eyes')\n",
        "  qtd_de_orange = palavras.count('orange')\n",
        "\n",
        "  if cor == 'red':\n",
        "    print(qtd_de_red)\n",
        "\n",
        "  elif cor == 'green':\n",
        "    print(qtd_de_green)\n",
        "\n",
        "  elif cor == 'black':\n",
        "    print(qtd_de_black)\n",
        "\n",
        "  elif cor == 'pink':\n",
        "    print(qtd_de_pink)\n",
        "\n",
        "  elif cor == 'white':\n",
        "    print(qtd_de_white)\n",
        "\n",
        "  elif cor == 'eyes':\n",
        "    print(qtd_de_eyes)\n",
        "\n",
        "  else:\n",
        "    print(qtd_de_orange)"
      ],
      "execution_count": null,
      "outputs": []
    },
    {
      "cell_type": "code",
      "metadata": {
        "colab": {
          "base_uri": "https://localhost:8080/"
        },
        "id": "6lIBFriZ3Pu_",
        "outputId": "f9b45983-7d80-46b1-da54-d0938e672b34"
      },
      "source": [
        "prog_cores()"
      ],
      "execution_count": null,
      "outputs": [
        {
          "output_type": "stream",
          "text": [
            "Insira a cor que você quer descobrir a repetição:pink\n",
            "6\n"
          ],
          "name": "stdout"
        }
      ]
    },
    {
      "cell_type": "code",
      "metadata": {
        "id": "OFWrOFzI7w6Z"
      },
      "source": [
        ""
      ],
      "execution_count": null,
      "outputs": []
    }
  ]
}